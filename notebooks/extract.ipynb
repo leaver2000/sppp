{
 "cells": [
  {
   "cell_type": "code",
   "execution_count": 1,
   "metadata": {},
   "outputs": [
    {
     "data": {
      "text/html": [
       "\n",
       "                <script type=\"application/javascript\" id=\"jupyter_black\">\n",
       "                (function() {\n",
       "                    if (window.IPython === undefined) {\n",
       "                        return\n",
       "                    }\n",
       "                    var msg = \"WARNING: it looks like you might have loaded \" +\n",
       "                        \"jupyter_black in a non-lab notebook with \" +\n",
       "                        \"`is_lab=True`. Please double check, and if \" +\n",
       "                        \"loading with `%load_ext` please review the README!\"\n",
       "                    console.log(msg)\n",
       "                    alert(msg)\n",
       "                })()\n",
       "                </script>\n",
       "                "
      ],
      "text/plain": [
       "<IPython.core.display.HTML object>"
      ]
     },
     "metadata": {},
     "output_type": "display_data"
    }
   ],
   "source": [
    "%load_ext jupyter_black"
   ]
  },
  {
   "cell_type": "code",
   "execution_count": 2,
   "metadata": {},
   "outputs": [],
   "source": [
    "import json\n",
    "from pathlib import Path\n",
    "from typing import Iterator\n",
    "from urllib.error import HTTPError\n",
    "\n",
    "import pandas as pd\n",
    "import geopandas as gpd\n",
    "from requests import Session, Response"
   ]
  },
  {
   "cell_type": "code",
   "execution_count": 24,
   "metadata": {},
   "outputs": [
    {
     "data": {
      "text/plain": [
       "Index(['https://mtarchive.geol.iastate.edu/2022/06/01/mrms/ncep/ProbSevere/MRMS_PROBSEVERE_20220601_000000.json',\n",
       "       'https://mtarchive.geol.iastate.edu/2022/06/01/mrms/ncep/ProbSevere/MRMS_PROBSEVERE_20220601_000200.json',\n",
       "       'https://mtarchive.geol.iastate.edu/2022/06/01/mrms/ncep/ProbSevere/MRMS_PROBSEVERE_20220601_000400.json',\n",
       "       'https://mtarchive.geol.iastate.edu/2022/06/01/mrms/ncep/ProbSevere/MRMS_PROBSEVERE_20220601_000600.json',\n",
       "       'https://mtarchive.geol.iastate.edu/2022/06/01/mrms/ncep/ProbSevere/MRMS_PROBSEVERE_20220601_000800.json',\n",
       "       'https://mtarchive.geol.iastate.edu/2022/06/01/mrms/ncep/ProbSevere/MRMS_PROBSEVERE_20220601_001000.json',\n",
       "       'https://mtarchive.geol.iastate.edu/2022/06/01/mrms/ncep/ProbSevere/MRMS_PROBSEVERE_20220601_001200.json',\n",
       "       'https://mtarchive.geol.iastate.edu/2022/06/01/mrms/ncep/ProbSevere/MRMS_PROBSEVERE_20220601_001400.json',\n",
       "       'https://mtarchive.geol.iastate.edu/2022/06/01/mrms/ncep/ProbSevere/MRMS_PROBSEVERE_20220601_001600.json',\n",
       "       'https://mtarchive.geol.iastate.edu/2022/06/01/mrms/ncep/ProbSevere/MRMS_PROBSEVERE_20220601_001800.json',\n",
       "       ...\n",
       "       'https://mtarchive.geol.iastate.edu/2022/06/14/mrms/ncep/ProbSevere/MRMS_PROBSEVERE_20220614_234200.json',\n",
       "       'https://mtarchive.geol.iastate.edu/2022/06/14/mrms/ncep/ProbSevere/MRMS_PROBSEVERE_20220614_234400.json',\n",
       "       'https://mtarchive.geol.iastate.edu/2022/06/14/mrms/ncep/ProbSevere/MRMS_PROBSEVERE_20220614_234600.json',\n",
       "       'https://mtarchive.geol.iastate.edu/2022/06/14/mrms/ncep/ProbSevere/MRMS_PROBSEVERE_20220614_234800.json',\n",
       "       'https://mtarchive.geol.iastate.edu/2022/06/14/mrms/ncep/ProbSevere/MRMS_PROBSEVERE_20220614_235000.json',\n",
       "       'https://mtarchive.geol.iastate.edu/2022/06/14/mrms/ncep/ProbSevere/MRMS_PROBSEVERE_20220614_235200.json',\n",
       "       'https://mtarchive.geol.iastate.edu/2022/06/14/mrms/ncep/ProbSevere/MRMS_PROBSEVERE_20220614_235400.json',\n",
       "       'https://mtarchive.geol.iastate.edu/2022/06/14/mrms/ncep/ProbSevere/MRMS_PROBSEVERE_20220614_235600.json',\n",
       "       'https://mtarchive.geol.iastate.edu/2022/06/14/mrms/ncep/ProbSevere/MRMS_PROBSEVERE_20220614_235800.json',\n",
       "       'https://mtarchive.geol.iastate.edu/2022/06/15/mrms/ncep/ProbSevere/MRMS_PROBSEVERE_20220615_000000.json'],\n",
       "      dtype='object', length=10081)"
      ]
     },
     "execution_count": 24,
     "metadata": {},
     "output_type": "execute_result"
    }
   ],
   "source": [
    "baseurl = \"https://mtarchive.geol.iastate.edu\"\n",
    "\n",
    "\n",
    "\n",
    "def iterurls(res: Response) -> Iterator[str]:\n",
    "    \"\"\"generator function that yields a list of json files\"\"\"\n",
    "    yield from res.url + (\n",
    "        pd.read_html(\n",
    "            res.content,\n",
    "            skiprows=[0, 1],\n",
    "            parse_dates=[\"Unnamed: 2\"],\n",
    "        )[0]\n",
    "        .set_index(\"Unnamed: 2\")[\"Parent Directory\"]\n",
    "        .dropna()\n",
    "    )\n",
    "\n",
    "\n",
    "def feature_generator(features: list, valid_time: pd.Timestamp):\n",
    "    for feat in features:\n",
    "        props = feat[\"properties\"]\n",
    "        props[\"validTime\"] = valid_time\n",
    "        props[\"geometry\"] = feat[\"geometry\"]\n",
    "        yield props\n",
    "\n",
    "\n",
    "def get_data(\n",
    "    start: str, end: str, save_to: Path = Path(\"/home/leaver2000/sppp/data\")\n",
    ") -> None:\n",
    "    date_range = pd.date_range(start, end)\n",
    "    date_nodes = baseurl + date_range.strftime(\"/%Y/%m/%d/mrms/ncep/ProbSevere/\")\n",
    "    with Session() as session:\n",
    "        for valid_time, date_node in zip(date_range, date_nodes):\n",
    "            try:\n",
    "                r = session.get(date_node)\n",
    "                r.raise_for_status()\n",
    "                for fileurl in iterurls(r):\n",
    "                    r = session.get(fileurl)\n",
    "                    r.raise_for_status()\n",
    "                    features = r.json()[\"features\"]\n",
    "\n",
    "                    df = pd.DataFrame(\n",
    "                        feature_generator(features, valid_time)\n",
    "                    ).set_index([\"validTime\", \"ID\"])\n",
    "                    r.url.split(\"/\")[-1][:-4]\n",
    "                    local_file = save_to / f'{r.url.split(\"/\")[-1][:-4]}.csv'\n",
    "                    df.to_csv(local_file)\n",
    "\n",
    "\n",
    "            except HTTPError:\n",
    "                ...\n",
    "\n",
    "if __name__ == \"__main__\":\n",
    "    get_data(\"2022-06-01\", \"2022-06-02\")"
   ]
  }
 ],
 "metadata": {
  "kernelspec": {
   "display_name": "Python 3.10.4 ('venv')",
   "language": "python",
   "name": "python3"
  },
  "language_info": {
   "codemirror_mode": {
    "name": "ipython",
    "version": 3
   },
   "file_extension": ".py",
   "mimetype": "text/x-python",
   "name": "python",
   "nbconvert_exporter": "python",
   "pygments_lexer": "ipython3",
   "version": "3.10.4"
  },
  "orig_nbformat": 4,
  "vscode": {
   "interpreter": {
    "hash": "23393d2575091a37cff0d0e9e7479591a295495b26c3b2ebf9b64da572e02d85"
   }
  }
 },
 "nbformat": 4,
 "nbformat_minor": 2
}
