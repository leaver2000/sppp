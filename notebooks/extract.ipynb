{
 "cells": [
  {
   "cell_type": "code",
   "execution_count": 4,
   "metadata": {},
   "outputs": [
    {
     "name": "stdout",
     "output_type": "stream",
     "text": [
      "The jupyter_black extension is already loaded. To reload it, use:\n",
      "  %reload_ext jupyter_black\n"
     ]
    }
   ],
   "source": [
    "%load_ext jupyter_black"
   ]
  },
  {
   "cell_type": "code",
   "execution_count": 5,
   "metadata": {},
   "outputs": [],
   "source": [
    "import json\n",
    "from pathlib import Path\n",
    "from shutil import copyfileobj\n",
    "\n",
    "import pandas as pd\n",
    "from requests import Session, HTTPError"
   ]
  },
  {
   "cell_type": "code",
   "execution_count": 8,
   "metadata": {},
   "outputs": [],
   "source": [
    "template = \"https://mtarchive.geol.iastate.edu/%Y/%m/%d/mrms/ncep/ProbSevere/MRMS_PROBSEVERE_%Y%m%d_%H%M00.json\"\n",
    "outdir = Path(\"/home/leaver2000/sppp/archive\")\n",
    "\n",
    "\n",
    "def download_archive_data(start: str, end: str, freq: str = \"2min\") -> None:\n",
    "    urls = pd.date_range(start=start, end=end).strftime(template)\n",
    "    with Session() as session:\n",
    "        for url in urls:\n",
    "            try:\n",
    "                r = session.get(url, stream=True)\n",
    "                r.raise_for_status()\n",
    "                outfile = outdir / r.url.split(\"/\")[-1]\n",
    "\n",
    "                with outfile.open(\"w\") as f:\n",
    "                    json.dump(r.json(), f, indent=4)\n",
    "\n",
    "            except (ConnectionError, HTTPError):\n",
    "                print(\"error downloading\", url)\n",
    "\n",
    "\n",
    "download_archive_data(start=\"2022-05-01T00:00:00Z\", end=\"2022-07-15T00:00:00Z\")"
   ]
  }
 ],
 "metadata": {
  "kernelspec": {
   "display_name": "Python 3.10.4 ('venv')",
   "language": "python",
   "name": "python3"
  },
  "language_info": {
   "codemirror_mode": {
    "name": "ipython",
    "version": 3
   },
   "file_extension": ".py",
   "mimetype": "text/x-python",
   "name": "python",
   "nbconvert_exporter": "python",
   "pygments_lexer": "ipython3",
   "version": "3.10.4"
  },
  "orig_nbformat": 4,
  "vscode": {
   "interpreter": {
    "hash": "23393d2575091a37cff0d0e9e7479591a295495b26c3b2ebf9b64da572e02d85"
   }
  }
 },
 "nbformat": 4,
 "nbformat_minor": 2
}
