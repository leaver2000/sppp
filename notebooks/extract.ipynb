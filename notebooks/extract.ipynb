{
 "cells": [
  {
   "cell_type": "code",
   "execution_count": 1,
   "metadata": {},
   "outputs": [
    {
     "data": {
      "text/html": [
       "\n",
       "                <script type=\"application/javascript\" id=\"jupyter_black\">\n",
       "                (function() {\n",
       "                    if (window.IPython === undefined) {\n",
       "                        return\n",
       "                    }\n",
       "                    var msg = \"WARNING: it looks like you might have loaded \" +\n",
       "                        \"jupyter_black in a non-lab notebook with \" +\n",
       "                        \"`is_lab=True`. Please double check, and if \" +\n",
       "                        \"loading with `%load_ext` please review the README!\"\n",
       "                    console.log(msg)\n",
       "                    alert(msg)\n",
       "                })()\n",
       "                </script>\n",
       "                "
      ],
      "text/plain": [
       "<IPython.core.display.HTML object>"
      ]
     },
     "metadata": {},
     "output_type": "display_data"
    }
   ],
   "source": [
    "%load_ext jupyter_black"
   ]
  },
  {
   "cell_type": "code",
   "execution_count": 2,
   "metadata": {},
   "outputs": [],
   "source": [
    "import json\n",
    "from pathlib import Path\n",
    "from shutil import copyfileobj\n",
    "\n",
    "import pandas as pd\n",
    "from requests import Session, HTTPError"
   ]
  },
  {
   "cell_type": "code",
   "execution_count": 8,
   "metadata": {},
   "outputs": [
    {
     "name": "stdout",
     "output_type": "stream",
     "text": [
      "error downloading https://mtarchive.geol.iastate.edu/2022/07/20/mrms/ncep/ProbSevere/MRMS_PROBSEVERE_20220720_225600.json\n",
      "error downloading https://mtarchive.geol.iastate.edu/2022/07/20/mrms/ncep/ProbSevere/MRMS_PROBSEVERE_20220720_225800.json\n",
      "error downloading https://mtarchive.geol.iastate.edu/2022/07/20/mrms/ncep/ProbSevere/MRMS_PROBSEVERE_20220720_230200.json\n",
      "error downloading https://mtarchive.geol.iastate.edu/2022/07/20/mrms/ncep/ProbSevere/MRMS_PROBSEVERE_20220720_230400.json\n"
     ]
    }
   ],
   "source": [
    "template = \"https://mtarchive.geol.iastate.edu/%Y/%m/%d/mrms/ncep/ProbSevere/MRMS_PROBSEVERE_%Y%m%d_%H%M00.json\"\n",
    "outdir = Path(\"/home/leaver2000/sppp/data/probsevere/2022/20\")\n",
    "\n",
    "\n",
    "def download_archive_data(\n",
    "    start: str,\n",
    "    end: str,\n",
    "    outdir: Path,\n",
    "    freq: str = \"2min\",\n",
    ") -> None:\n",
    "    urls = pd.date_range(start=start, end=end, freq=freq).strftime(template)\n",
    "    # print(urls)\n",
    "    with Session() as session:\n",
    "        for url in urls:\n",
    "            try:\n",
    "                r = session.get(url, stream=True)\n",
    "                r.raise_for_status()\n",
    "                outfile = outdir / r.url.split(\"/\")[-1]\n",
    "\n",
    "                with outfile.open(\"w\") as f:\n",
    "                    json.dump(r.json(), f, indent=4)\n",
    "\n",
    "            except (ConnectionError, HTTPError):\n",
    "                print(\"error downloading\", url)\n",
    "\n",
    "\n",
    "if __name__ == \"__main__\":\n",
    "    download_archive_data(\n",
    "        start=\"2022-07-20T00:00:00Z\", end=\"2022-07-21T00:00:00Z\", outdir=outdir\n",
    "    )"
   ]
  }
 ],
 "metadata": {
  "kernelspec": {
   "display_name": "Python 3.10.4 ('venv')",
   "language": "python",
   "name": "python3"
  },
  "language_info": {
   "codemirror_mode": {
    "name": "ipython",
    "version": 3
   },
   "file_extension": ".py",
   "mimetype": "text/x-python",
   "name": "python",
   "nbconvert_exporter": "python",
   "pygments_lexer": "ipython3",
   "version": "3.10.4"
  },
  "orig_nbformat": 4,
  "vscode": {
   "interpreter": {
    "hash": "c8c2c2b5b2626aa4b0537442ae4fe394d350cb313df24fd0be84b1431ed8d08c"
   }
  }
 },
 "nbformat": 4,
 "nbformat_minor": 2
}
